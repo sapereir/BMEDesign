{
 "cells": [
  {
   "cell_type": "code",
   "execution_count": null,
   "metadata": {},
   "outputs": [],
   "source": []
  },
  {
   "cell_type": "code",
   "execution_count": 1,
   "metadata": {},
   "outputs": [],
   "source": [
    "import numpy as np\n",
    "import matplotlib.pyplot as plt\n",
    "import math\n",
    "import torch\n",
    "import time\n",
    "import os\n",
    "import re"
   ]
  },
  {
   "cell_type": "code",
   "execution_count": 2,
   "metadata": {},
   "outputs": [
    {
     "name": "stdout",
     "output_type": "stream",
     "text": [
      "True\n"
     ]
    }
   ],
   "source": [
    "cuda = torch.cuda.is_available()\n",
    "print(cuda)"
   ]
  },
  {
   "cell_type": "code",
   "execution_count": 3,
   "metadata": {},
   "outputs": [],
   "source": [
    "from torch.utils.data import DataLoader, Dataset, TensorDataset\n",
    "\n",
    "import torch.nn as nn\n",
    "import torch.nn.functional as F\n",
    "from torchvision import transforms, datasets\n",
    "import torch.optim as optim"
   ]
  },
  {
   "cell_type": "code",
   "execution_count": null,
   "metadata": {},
   "outputs": [],
   "source": []
  },
  {
   "cell_type": "code",
   "execution_count": 4,
   "metadata": {},
   "outputs": [],
   "source": [
    "class MyDataset(Dataset):\n",
    "    def __init__(self, values):\n",
    "        self.values = values\n",
    "\n",
    "    def __len__(self):\n",
    "        return len(self.values)\n",
    "\n",
    "    def __getitem__(self, index):\n",
    "        X, Y = self.values[index]\n",
    "        return np.array(X).astype(\"float\"), np.array(Y).astype(\"long\")"
   ]
  },
  {
   "cell_type": "code",
   "execution_count": 5,
   "metadata": {},
   "outputs": [],
   "source": [
    "def readFile(path):\n",
    "    lines = list()\n",
    "    with open(path) as file:\n",
    "        csv_reader = file.readlines()\n",
    "        line_count = 0\n",
    "        for row in csv_reader:\n",
    "            row = re.split(r'\\t+', row.rstrip('\\t'))[1:]\n",
    "            values = row.pop(-1)\n",
    "            values = values.split(';')\n",
    "            for r in values:\n",
    "                chunk = re.findall('\\d*\\.?\\d+',r)\n",
    "                chunk = list(map(float, chunk)) \n",
    "                row.append(chunk)\n",
    "            lines.append(row)\n",
    "    features = []\n",
    "    for x in lines:\n",
    "        features.append([x[2], x[3], x[4], max(x[10])])\n",
    "    filterUnk = list(filter(lambda x: 'Unknown' not in x, features))\n",
    "    notGauges = ['PowerPICC', 'PICC', 'PowerPort', 'CentralLine', 'Other']\n",
    "    notivLoc = ['Other', 'PowerPort', 'CentralLine', 'PICC', 'PowerPICC']\n",
    "    filterGauge = list(filter(lambda x: x[0] not in notGauges, filterUnk))\n",
    "    filterIV = list(filter(lambda x: x[1] not in notivLoc, filterGauge))\n",
    "    return filterIV"
   ]
  },
  {
   "cell_type": "code",
   "execution_count": 6,
   "metadata": {},
   "outputs": [],
   "source": [
    "original = readFile(\"SN-SRMC-CT-1.txt\") + readFile(\"SN-SRMC-CT-2.txt\")"
   ]
  },
  {
   "cell_type": "code",
   "execution_count": 7,
   "metadata": {},
   "outputs": [
    {
     "data": {
      "text/plain": [
       "('Gauge Types:',\n",
       " 6,\n",
       " 'IV Locations:',\n",
       " 10,\n",
       " 'Protocols:',\n",
       " 3360,\n",
       " 'Pressures:',\n",
       " 25891)"
      ]
     },
     "execution_count": 7,
     "metadata": {},
     "output_type": "execute_result"
    }
   ],
   "source": [
    "gaugeTypes = set()\n",
    "ivLocation = set()\n",
    "protocol = dict()\n",
    "pressure = set()\n",
    "for inputX in original:\n",
    "    gaugeTypes.add(inputX[0])\n",
    "    ivLocation.add(inputX[1])\n",
    "    if inputX[2] in protocol:\n",
    "        protocol[inputX[2]] = protocol[inputX[2]] + [inputX[3]]\n",
    "    else:\n",
    "        protocol[inputX[2]] = [inputX[3]]\n",
    "    pressure.add(inputX[3])\n",
    "\n",
    "\"Gauge Types:\", len(gaugeTypes), \"IV Locations:\", len(ivLocation), \"Protocols:\", len(protocol), \"Pressures:\", len(pressure)"
   ]
  },
  {
   "cell_type": "code",
   "execution_count": 8,
   "metadata": {},
   "outputs": [],
   "source": [
    "def parseProtocol(x):\n",
    "    protocol = x.split(\" \")\n",
    "    Contrast = 0\n",
    "    Saline = 0\n",
    "    Mixed = 0\n",
    "    AmountC = 0\n",
    "    AmountS = 0\n",
    "    AmountM = 0\n",
    "    PercentM = 0\n",
    "    Flowrate = 0\n",
    "    for i in protocol:\n",
    "        if i[0] == \"@\":\n",
    "            FlowRate = float(i[1:])\n",
    "        if i[0] == \"C\":\n",
    "            Contrast = 1\n",
    "            AmountC = int(i[1:])\n",
    "        if i[0] == \"S\":\n",
    "            Saline = 1\n",
    "            AmountS = int(i[1:])\n",
    "        if i[0] == \"R\":\n",
    "            rprot = i.split(\"%\")\n",
    "            Mixed = 1\n",
    "            AmountM = int(rprot[0][1:])\n",
    "            PercentM = int(rprot[1][1:])\n",
    "    return [Contrast, Saline, Mixed, AmountC, AmountS, AmountM, PercentM, FlowRate]\n",
    "    print(v)"
   ]
  },
  {
   "cell_type": "code",
   "execution_count": 9,
   "metadata": {},
   "outputs": [],
   "source": [
    "def roundup(x):\n",
    "    return int(math.ceil(x/100.0))*100\n",
    "\n",
    "mapGauge = dict()\n",
    "for i, x in enumerate(sorted(list(gaugeTypes))):\n",
    "    mapGauge[x] = i\n",
    "mapIV = dict()\n",
    "for i, x in enumerate(sorted(list(ivLocation))):\n",
    "    mapIV[x] = i\n",
    "mapPressure = dict()\n",
    "buckets = []\n",
    "count = 0\n",
    "bucketSize = 20\n",
    "for p in range(int(min(pressure)), int(roundup(max(pressure))), bucketSize):\n",
    "    buckets.append(p)\n",
    "    mapPressure[p] = count\n",
    "    count += 1\n",
    "result = []\n",
    "for v in original: \n",
    "    for p in range(len(buckets) - 1):\n",
    "        if (v[3] >= buckets[p]) and (v[3] < buckets[p + 1]):\n",
    "            pressureV = buckets[p]\n",
    "    result.append(([mapGauge[v[0]], mapIV[v[1]]] + parseProtocol(v[2]) , mapPressure[pressureV]))"
   ]
  },
  {
   "cell_type": "code",
   "execution_count": 10,
   "metadata": {},
   "outputs": [],
   "source": [
    "half = len(result)//2\n",
    "\n",
    "training_set = result[:half]\n",
    "validation_set = result[half:]"
   ]
  },
  {
   "cell_type": "code",
   "execution_count": 11,
   "metadata": {},
   "outputs": [],
   "source": [
    "num_workers = 8 if cuda else 0 \n",
    "\n",
    "train_dataset = MyDataset(training_set)\n",
    "train_loader_args = dict(shuffle=True, batch_size=256, num_workers=num_workers, pin_memory=True) if cuda                    else dict(shuffle=True, batch_size=64)\n",
    "train_loader = DataLoader(train_dataset, **train_loader_args)\n",
    "\n",
    "val_dataset = MyDataset(validation_set)\n",
    "val_loader_args = dict(shuffle=False, batch_size=256, num_workers=num_workers, pin_memory=True) if cuda                    else dict(shuffle=False, batch_size=1)\n",
    "val_loader = DataLoader(val_dataset, **val_loader_args)"
   ]
  },
  {
   "cell_type": "code",
   "execution_count": 12,
   "metadata": {},
   "outputs": [
    {
     "data": {
      "text/plain": [
       "(10, 65, 50)"
      ]
     },
     "execution_count": 12,
     "metadata": {},
     "output_type": "execute_result"
    }
   ],
   "source": [
    "input_size = len(train_dataset.__getitem__(0)[0])\n",
    "output_size = len(buckets)\n",
    "hidden_size = int(input_size**2)//2\n",
    "\n",
    "input_size, output_size, hidden_size"
   ]
  },
  {
   "cell_type": "code",
   "execution_count": 13,
   "metadata": {},
   "outputs": [],
   "source": [
    "class MyNetwork(nn.Module):\n",
    "    def __init__(self, input_size, hidden_size, output_size):\n",
    "        super().__init__()\n",
    "        self.layer1 = nn.Linear(input_size, hidden_size)\n",
    "        self.act1 = nn.ReLU()\n",
    "        self.b1 = nn.BatchNorm1d(hidden_size)\n",
    "        self.layer2 = nn.Linear(hidden_size, int(hidden_size))\n",
    "        self.act2 = nn.ReLU()\n",
    "        self.b2 = nn.BatchNorm1d(int(hidden_size))\n",
    "        self.layer3 = nn.Linear(int(hidden_size), output_size)\n",
    "\n",
    "    def forward(self, input_val):\n",
    "        h = input_val\n",
    "        h = self.layer1(h)\n",
    "        h = self.act1(h)\n",
    "        h = self.b1(h)\n",
    "        h = self.layer2(h)\n",
    "        h = self.act2(h)\n",
    "        h = self.b2(h)\n",
    "        h = self.layer3(h)\n",
    "        return h"
   ]
  },
  {
   "cell_type": "code",
   "execution_count": 14,
   "metadata": {},
   "outputs": [
    {
     "name": "stdout",
     "output_type": "stream",
     "text": [
      "MyNetwork(\n",
      "  (layer1): Linear(in_features=10, out_features=50, bias=True)\n",
      "  (act1): ReLU()\n",
      "  (b1): BatchNorm1d(50, eps=1e-05, momentum=0.1, affine=True, track_running_stats=True)\n",
      "  (layer2): Linear(in_features=50, out_features=50, bias=True)\n",
      "  (act2): ReLU()\n",
      "  (b2): BatchNorm1d(50, eps=1e-05, momentum=0.1, affine=True, track_running_stats=True)\n",
      "  (layer3): Linear(in_features=50, out_features=65, bias=True)\n",
      ")\n"
     ]
    }
   ],
   "source": [
    "model = MyNetwork(input_size, hidden_size, output_size)\n",
    "model = model.float()\n",
    "criterion = nn.CrossEntropyLoss()\n",
    "optimizer = optim.Adam(model.parameters())\n",
    "scheduler = optim.lr_scheduler.ReduceLROnPlateau(optimizer, patience=1)\n",
    "device = torch.device(\"cuda\" if cuda else \"cpu\")\n",
    "model.to(device)\n",
    "print(model)"
   ]
  },
  {
   "cell_type": "code",
   "execution_count": 15,
   "metadata": {},
   "outputs": [],
   "source": [
    "def train_epoch(model, train_loader, criterion, optimizer):\n",
    "    model.train()\n",
    "\n",
    "    running_loss = 0.0\n",
    "    total_predictions = 0.0\n",
    "    correct_predictions = 0.0\n",
    "        \n",
    "    start_time = time.time()\n",
    "    og_time = start_time\n",
    "    for batch_idx, (data, target) in enumerate(train_loader):   \n",
    "        optimizer.zero_grad()   # .backward() accumulates gradients\n",
    "        data = data.to(device)\n",
    "        target = target.to(device) # all data & model on same device\n",
    "\n",
    "        outputs = model(data.float())\n",
    "        \n",
    "        _, predicted = torch.max(outputs.data, 1)\n",
    "        total_predictions += target.size(0)\n",
    "        correct_predictions += (predicted == target).sum().item()\n",
    "        \n",
    "        loss = criterion(outputs, target)\n",
    "        running_loss += loss.item()\n",
    "        if (batch_idx%200 == 0):\n",
    "            end_time = time.time()\n",
    "            print(\"Training:\", \"Batch Number \" + str(batch_idx), \"Running Loss:\", running_loss, \"Time:\", end_time - start_time, 's')\n",
    "            start_time = end_time\n",
    "            \n",
    "        loss.backward()\n",
    "        optimizer.step()\n",
    "    end_time = time.time()\n",
    "    \n",
    "    running_loss /= len(train_loader)\n",
    "    acc = (correct_predictions/total_predictions)*100.0\n",
    "    print('Training Accuracy: ', acc, \"    \", 'Training Loss: ', running_loss)\n",
    "    return running_loss, acc"
   ]
  },
  {
   "cell_type": "code",
   "execution_count": 16,
   "metadata": {},
   "outputs": [],
   "source": [
    "def val_model(model, dev_loader, criterion):\n",
    "    with torch.no_grad():\n",
    "        model.eval()\n",
    "\n",
    "        running_loss = 0.0\n",
    "        total_predictions = 0.0\n",
    "        correct_predictions = 0.0\n",
    "\n",
    "        for batch_idx, (data, target) in enumerate(dev_loader):   \n",
    "            data = data.to(device)\n",
    "            target = target.to(device)\n",
    "\n",
    "            outputs = model(data.float())\n",
    "\n",
    "            _, predicted = torch.max(outputs.data, 1)\n",
    "            total_predictions += target.size(0)\n",
    "            correct_predictions += (predicted == target).sum().item()\n",
    "\n",
    "            loss = criterion(outputs, target).detach()\n",
    "            running_loss += loss.item()\n",
    "            \n",
    "        running_loss /= len(dev_loader)\n",
    "        acc = (correct_predictions/total_predictions)*100.0\n",
    "        print('Validation Accuracy: ', acc, \"    \", 'Validation Loss: ', running_loss)\n",
    "        return running_loss, acc"
   ]
  },
  {
   "cell_type": "code",
   "execution_count": 17,
   "metadata": {},
   "outputs": [
    {
     "name": "stderr",
     "output_type": "stream",
     "text": [
      "\r",
      "  0%|          | 0/5 [00:00<?, ?it/s]"
     ]
    },
    {
     "name": "stdout",
     "output_type": "stream",
     "text": [
      "Epoch 0\n",
      "Training: Batch Number 0 Running Loss: 4.325794219970703 Time: 0.4627668857574463 s\n",
      "Training Accuracy:  70.53049289891395      Training Loss:  1.679648072209977\n"
     ]
    },
    {
     "name": "stderr",
     "output_type": "stream",
     "text": [
      "/home/ubuntu/anaconda3/envs/pytorch_p36/lib/python3.6/site-packages/torch/serialization.py:360: UserWarning: Couldn't retrieve source code for container of type MyNetwork. It won't be checked for correctness upon loading.\n",
      "  \"type \" + obj.__name__ + \". It won't be checked \"\n",
      "\r",
      " 20%|██        | 1/5 [00:01<00:07,  1.92s/it]"
     ]
    },
    {
     "name": "stdout",
     "output_type": "stream",
     "text": [
      "Validation Accuracy:  88.02398782707283      Validation Loss:  0.7823795739931004\n",
      "Saving the Model Version 0\n",
      "===================================================================================================================\n",
      "Epoch 1\n",
      "Training: Batch Number 0 Running Loss: 0.6266815066337585 Time: 0.28935861587524414 s\n",
      "Training Accuracy:  88.56367108246808      Training Loss:  0.5013275378532992\n"
     ]
    },
    {
     "name": "stderr",
     "output_type": "stream",
     "text": [
      "\r",
      " 40%|████      | 2/5 [00:03<00:05,  1.81s/it]"
     ]
    },
    {
     "name": "stdout",
     "output_type": "stream",
     "text": [
      "Validation Accuracy:  93.71065429483546      Validation Loss:  0.5809828354657152\n",
      "Saving the Model Version 1\n",
      "===================================================================================================================\n",
      "Epoch 2\n",
      "Training: Batch Number 0 Running Loss: 0.39987829327583313 Time: 0.2759110927581787 s\n",
      "Training Accuracy:  91.69650316266858      Training Loss:  0.3379542485220742\n"
     ]
    },
    {
     "name": "stderr",
     "output_type": "stream",
     "text": [
      "\r",
      " 60%|██████    | 3/5 [00:05<00:03,  1.74s/it]"
     ]
    },
    {
     "name": "stdout",
     "output_type": "stream",
     "text": [
      "Validation Accuracy:  94.0448130799296      Validation Loss:  0.5882848735529048\n",
      "Saving the Model Version 2\n",
      "===================================================================================================================\n",
      "Epoch 3\n",
      "Training: Batch Number 0 Running Loss: 0.4693295657634735 Time: 0.27954673767089844 s\n",
      "Training Accuracy:  92.88996300274496      Training Loss:  0.2965511581824936\n"
     ]
    },
    {
     "name": "stderr",
     "output_type": "stream",
     "text": [
      "\r",
      " 80%|████████  | 4/5 [00:06<00:01,  1.68s/it]"
     ]
    },
    {
     "name": "stdout",
     "output_type": "stream",
     "text": [
      "Validation Accuracy:  93.51075573589522      Validation Loss:  0.5305583771062261\n",
      "Saving the Model Version 3\n",
      "===================================================================================================================\n",
      "Epoch 4\n",
      "Training: Batch Number 0 Running Loss: 0.2100902795791626 Time: 0.2819485664367676 s\n",
      "Training Accuracy:  94.23558897243107      Training Loss:  0.266452964594346\n"
     ]
    },
    {
     "name": "stderr",
     "output_type": "stream",
     "text": [
      "100%|██████████| 5/5 [00:08<00:00,  1.62s/it]"
     ]
    },
    {
     "name": "stdout",
     "output_type": "stream",
     "text": [
      "Validation Accuracy:  94.1492377002715      Validation Loss:  0.6138046621025064\n",
      "Saving the Model Version 4\n",
      "===================================================================================================================\n"
     ]
    },
    {
     "name": "stderr",
     "output_type": "stream",
     "text": [
      "\n"
     ]
    }
   ],
   "source": [
    "from tqdm import tqdm\n",
    "\n",
    "n_epochs = 5\n",
    "Train_loss = []\n",
    "Train_acc = []\n",
    "Val_loss = []\n",
    "Val_acc = []\n",
    "\n",
    "# from torch.utils.tensorboard import SummaryWriter\n",
    "# writer = SummaryWriter(\"./runs/training\")\n",
    "\n",
    "for epoch in tqdm(range(n_epochs)):\n",
    "    print(\"Epoch \" + str(epoch)) \n",
    "            \n",
    "    train_l, train_a = train_epoch(model, train_loader, criterion, optimizer)\n",
    "    val_l, val_a = val_model(model, val_loader, criterion)\n",
    "    \n",
    "#     for name, param in model.named_parameters():\n",
    "#         writer.add_histogram('grad_' + name, param.grad.data, epoch)\n",
    "    \n",
    "    Train_loss.append(train_l)\n",
    "    Train_acc.append(train_a)\n",
    "    Val_loss.append(val_l)\n",
    "    Val_acc.append(val_a)\n",
    "    \n",
    "#     writer.add_scalars('loss', {'train': train_l, 'val': val_l}, epoch)\n",
    "#     writer.add_scalars('acc', {'train': train_a, 'val': val_a}, epoch)\n",
    "    \n",
    "    print(\"Saving the Model Version \" + str(epoch))\n",
    "    torch.save(model, './model_final.pt')\n",
    "    torch.save(optimizer, './adam_model_final.pt')\n",
    "    print('='*115)\n"
   ]
  },
  {
   "cell_type": "code",
   "execution_count": null,
   "metadata": {},
   "outputs": [
    {
     "data": {
      "image/png": "[encoded data removed]",
      "text/plain": [
       "<Figure size 432x288 with 1 Axes>"
      ]
     },
     "metadata": {},
     "output_type": "display_data"
    }
   ],
   "source": [
    "x = np.arange(n_epochs)\n",
    "\n",
    "plt.plot(x, Train_loss)\n",
    "plt.plot(x, Val_loss)\n",
    "plt.xlabel(\"Number of Epochs\")\n",
    "plt.ylabel(\"Loss\")\n",
    "plt.title(\"Epochs vs Loss\")\n",
    "plt.savefig('Loss.png')\n",
    "plt.show()\n",
    "\n",
    "plt.plot(x, Train_acc)\n",
    "plt.plot(x, Val_acc)\n",
    "plt.xlabel(\"Number of Epochs\")\n",
    "plt.ylabel(\"Accuracy\")\n",
    "plt.title(\"Epochs vs Accuracy\")\n",
    "plt.savefig('Accuracy.png')\n",
    "plt.show()"
   ]
  },
  {
   "cell_type": "code",
   "execution_count": null,
   "metadata": {},
   "outputs": [],
   "source": []
  }
 ],
 "metadata": {
  "kernelspec": {
   "display_name": "Environment (conda_pytorch_p36)",
   "language": "python",
   "name": "conda_pytorch_p36"
  },
  "language_info": {
   "codemirror_mode": {
    "name": "ipython",
    "version": 3
   },
   "file_extension": ".py",
   "mimetype": "text/x-python",
   "name": "python",
   "nbconvert_exporter": "python",
   "pygments_lexer": "ipython3",
   "version": "3.6.5"
  }
 },
 "nbformat": 4,
 "nbformat_minor": 2
}
